{
 "cells": [
  {
   "cell_type": "code",
   "execution_count": 1,
   "metadata": {},
   "outputs": [],
   "source": [
    "import pandas as pd"
   ]
  },
  {
   "cell_type": "code",
   "execution_count": 2,
   "metadata": {},
   "outputs": [],
   "source": [
    "data = pd.read_excel(\"equivalencia.xlsx\")"
   ]
  },
  {
   "cell_type": "code",
   "execution_count": 14,
   "metadata": {},
   "outputs": [
    {
     "data": {
      "text/plain": [
       "125      2202.902330\n",
       "250      4351.511201\n",
       "500      5826.432618\n",
       "750      7924.177351\n",
       "1000    10046.480175\n",
       "1500    14274.572140\n",
       "2000    18176.115766\n",
       "2500    22393.253048\n",
       "3000    26863.028910\n",
       "3500    31583.999210\n",
       "4000    29787.089174\n",
       "4500    29788.597208\n",
       "5000    32145.240143\n",
       "5500    33939.739257\n",
       "6000    36083.345989\n",
       "6500    40718.399853\n",
       "7000    40214.067873\n",
       "7500    42664.372656\n",
       "8000    49203.015439\n",
       "8500    14801.506834\n",
       "dtype: float64"
      ]
     },
     "execution_count": 14,
     "metadata": {},
     "output_type": "execute_result"
    }
   ],
   "source": [
    "data.std(axis=0)"
   ]
  },
  {
   "cell_type": "code",
   "execution_count": 5,
   "metadata": {},
   "outputs": [
    {
     "data": {
      "text/plain": [
       "125       2049.660256\n",
       "250       4131.894231\n",
       "500       5717.576052\n",
       "750       7799.344156\n",
       "1000     10700.473118\n",
       "1500     15427.886364\n",
       "2000     24875.306533\n",
       "2500     33468.559524\n",
       "3000     41646.409396\n",
       "3500     50485.560606\n",
       "4000     59062.692308\n",
       "4500     76837.320513\n",
       "5000     87628.521127\n",
       "5500    101092.838710\n",
       "6000    114926.166667\n",
       "6500    123175.117647\n",
       "7000    140262.068182\n",
       "7500    154999.315789\n",
       "8000    131074.090909\n",
       "8500    122353.166667\n",
       "dtype: float64"
      ]
     },
     "execution_count": 5,
     "metadata": {},
     "output_type": "execute_result"
    }
   ],
   "source": [
    "data.mean(axis=0)"
   ]
  },
  {
   "cell_type": "code",
   "execution_count": 8,
   "metadata": {},
   "outputs": [
    {
     "data": {
      "text/plain": [
       "Code     object\n",
       "125       int64\n",
       "250       int64\n",
       "500     float64\n",
       "750     float64\n",
       "1000    float64\n",
       "1500    float64\n",
       "2000    float64\n",
       "2500    float64\n",
       "3000    float64\n",
       "3500    float64\n",
       "4000    float64\n",
       "4500    float64\n",
       "5000    float64\n",
       "5500    float64\n",
       "6000    float64\n",
       "6500    float64\n",
       "7000    float64\n",
       "7500    float64\n",
       "8000    float64\n",
       "8500    float64\n",
       "dtype: object"
      ]
     },
     "execution_count": 8,
     "metadata": {},
     "output_type": "execute_result"
    }
   ],
   "source": [
    "data.dtypes"
   ]
  },
  {
   "cell_type": "code",
   "execution_count": null,
   "metadata": {},
   "outputs": [],
   "source": []
  }
 ],
 "metadata": {
  "kernelspec": {
   "display_name": "Python 3",
   "language": "python",
   "name": "python3"
  },
  "language_info": {
   "codemirror_mode": {
    "name": "ipython",
    "version": 3
   },
   "file_extension": ".py",
   "mimetype": "text/x-python",
   "name": "python",
   "nbconvert_exporter": "python",
   "pygments_lexer": "ipython3",
   "version": "3.7.4"
  }
 },
 "nbformat": 4,
 "nbformat_minor": 4
}
