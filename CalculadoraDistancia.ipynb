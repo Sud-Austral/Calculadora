{
 "cells": [
  {
   "cell_type": "code",
   "execution_count": 2,
   "metadata": {},
   "outputs": [],
   "source": [
    "import math"
   ]
  },
  {
   "cell_type": "code",
   "execution_count": 5,
   "metadata": {},
   "outputs": [],
   "source": [
    "# Radianes por grados\n",
    "rad_per_grad = math.pi / 180\n",
    "# Radio de la Tierra en kilometros\n",
    "rkm = 6371.0\n",
    "rm = rkm * 1000 "
   ]
  },
  {
   "cell_type": "code",
   "execution_count": 23,
   "metadata": {},
   "outputs": [
    {
     "data": {
      "text/plain": [
       "6371000.0"
      ]
     },
     "execution_count": 23,
     "metadata": {},
     "output_type": "execute_result"
    }
   ],
   "source": [
    "rm"
   ]
  },
  {
   "cell_type": "code",
   "execution_count": 26,
   "metadata": {},
   "outputs": [],
   "source": [
    "# Punto = (Latitud, Longitud)\n",
    "def distanceInMetersBetween(punto1, punto2):\n",
    "    # Radianes por grados\n",
    "    rad_per_grad = math.pi / 180\n",
    "    # Radio de la Tierra en kilometros\n",
    "    rkm = 6371.0\n",
    "    rm = rkm * 1000 \n",
    "    \n",
    "    dLatitud_rad = (punto2[0] - punto1[0]) * rad_per_grad\n",
    "    dLongitud_rad = (punto2[1] - punto1[1]) * rad_per_grad\n",
    "    \n",
    "    latitud1_rad = punto1[0] * rad_per_grad\n",
    "    latitud2_rad = punto2[0] * rad_per_grad\n",
    "    \n",
    "    sinDlatitud = math.sin(dLatitud_rad / 2);\n",
    "    sinDlongitud = math.sin(dLongitud_rad / 2);\n",
    "    \n",
    "    a = sinDlatitud ** 2 + math.cos(latitud1_rad) * math.cos(latitud2_rad) * sinDlongitud ** 2\n",
    "    c = 2 * math.atan2( math.sqrt(a), math.sqrt(1 - a))\n",
    "    \n",
    "    return rm * c"
   ]
  },
  {
   "cell_type": "code",
   "execution_count": 27,
   "metadata": {},
   "outputs": [],
   "source": [
    "punto1 = (-33.4372,-70.6506)\n",
    "punto2 = ( -25.4366000,-70.4868700)"
   ]
  },
  {
   "cell_type": "code",
   "execution_count": 28,
   "metadata": {},
   "outputs": [
    {
     "name": "stdout",
     "output_type": "stream",
     "text": [
      "889766.9633559295\n"
     ]
    }
   ],
   "source": [
    "print(distanceInMetersBetween(punto1,punto2))"
   ]
  },
  {
   "cell_type": "code",
   "execution_count": null,
   "metadata": {},
   "outputs": [],
   "source": []
  }
 ],
 "metadata": {
  "kernelspec": {
   "display_name": "Python 3",
   "language": "python",
   "name": "python3"
  },
  "language_info": {
   "codemirror_mode": {
    "name": "ipython",
    "version": 3
   },
   "file_extension": ".py",
   "mimetype": "text/x-python",
   "name": "python",
   "nbconvert_exporter": "python",
   "pygments_lexer": "ipython3",
   "version": "3.7.4"
  }
 },
 "nbformat": 4,
 "nbformat_minor": 4
}
